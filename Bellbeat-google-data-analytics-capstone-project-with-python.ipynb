{
 "cells": [
  {
   "cell_type": "markdown",
   "id": "72765aff",
   "metadata": {
    "papermill": {
     "duration": 0.043811,
     "end_time": "2021-11-25T11:30:55.755941",
     "exception": false,
     "start_time": "2021-11-25T11:30:55.712130",
     "status": "completed"
    },
    "tags": []
   },
   "source": [
    "# GOOGLE CAPSTONE PROJECT: How can BellaBeat, a Wellness Technology play it Smart?"
   ]
  },
  {
   "cell_type": "markdown",
   "id": "dce8bd47",
   "metadata": {
    "papermill": {
     "duration": 0.032716,
     "end_time": "2021-11-25T11:30:55.824230",
     "exception": false,
     "start_time": "2021-11-25T11:30:55.791514",
     "status": "completed"
    },
    "tags": []
   },
   "source": [
    "## Introduction\n",
    "\n",
    "Welcome to the Bellabeat data analysis case study! In this case study, you will perform many real-world tasks of a junior data analyst. You will imagine you are working for Bellabeat, a high-tech manufacturer of health-focused products for women, and meet different characters and team members. In order to answer the key business questions, you will follow the steps of the data analysis process: ask, prepare, process, analyze, share, and act. Along the way, the Case Study Roadmap tables — including guiding questions and key tasks — will help you stay on the right path. By the end of this lesson, you will have a portfolio-ready case study. Download the packet and reference the details of this case study anytime. Then, when you begin your job hunt, your case study will be a tangible way to demonstrate your knowledge and skills to potential employers."
   ]
  },
  {
   "cell_type": "markdown",
   "id": "e2ea680e",
   "metadata": {
    "papermill": {
     "duration": 0.032614,
     "end_time": "2021-11-25T11:30:55.889931",
     "exception": false,
     "start_time": "2021-11-25T11:30:55.857317",
     "status": "completed"
    },
    "tags": []
   },
   "source": [
    "## Scenario\n",
    "\n",
    "You are a junior data analyst working on the marketing analyst team at Bellabeat, a high-tech manufacturer of health-focused products for women. Bellabeat is a successful small company, but they have the potential to become a larger player in the global smart device market. Urška Sršen, cofounder and Chief Creative Officer of Bellabeat, believes that analyzing smart device fitness data could help unlock new growth opportunities for the company. You have been asked to focus on one of Bellabeat’s products and analyze smart device data to gain insight into how consumers are using their smart devices. The insights you discover will then help guide marketing strategy for the company. You will present your analysis to the Bellabeat executive team along with your high-level recommendations for Bellabeat’s marketing strategy."
   ]
  },
  {
   "cell_type": "markdown",
   "id": "aef68f17",
   "metadata": {
    "papermill": {
     "duration": 0.032887,
     "end_time": "2021-11-25T11:30:55.956543",
     "exception": false,
     "start_time": "2021-11-25T11:30:55.923656",
     "status": "completed"
    },
    "tags": []
   },
   "source": [
    "## Characters and products\n",
    "\n",
    "● Characters\n",
    "\n",
    "○ Urška Sršen: Bellabeat’s cofounder and Chief Creative Officer\n",
    "\n",
    "○ Sando Mur: Mathematician and Bellabeat’s cofounder; key member of the Bellabeat executive team\n",
    "\n",
    "○ Bellabeat marketing analytics team: A team of data analysts responsible for collecting, analyzing, and reporting data that helps guide Bellabeat’s marketing strategy. You joined this team six months ago and have been busy learning about Bellabeat’’s mission and business goals — as well as how you, as a junior data analyst, can help Bellabeat achieve them.\n",
    "\n",
    "● Products\n",
    "\n",
    "○ Bellabeat app: The Bellabeat app provides users with health data related to their activity, sleep, stress, menstrual cycle, and mindfulness habits. This data can help users better understand their current habits and make healthy decisions. The Bellabeat app connects to their line of smart wellness products.\n",
    "\n",
    "○ Leaf: Bellabeat’s classic wellness tracker can be worn as a bracelet, necklace, or clip. The Leaf tracker connects to the Bellabeat app to track activity, sleep, and stress.\n",
    "\n",
    "○ Time: This wellness watch combines the timeless look of a classic timepiece with smart technology to track user activity, sleep, and stress. The Time watch connects to the Bellabeat app to provide you with insights into your daily wellness.\n",
    "\n",
    "○ Spring: This is a water bottle that tracks daily water intake using smart technology to ensure that you are appropriately hydrated throughout the day. The Spring bottle connects to the Bellabeat app to track your hydration levels.\n",
    "\n",
    "○ Bellabeat membership: Bellabeat also offers a subscription-based membership program for users. Membership gives users 24/7 access to fully personalized guidance on nutrition, activity, sleep, health and beauty, and mindfulness based on their lifestyle and goals."
   ]
  },
  {
   "cell_type": "markdown",
   "id": "3ad49b6b",
   "metadata": {
    "papermill": {
     "duration": 0.032786,
     "end_time": "2021-11-25T11:30:56.023910",
     "exception": false,
     "start_time": "2021-11-25T11:30:55.991124",
     "status": "completed"
    },
    "tags": []
   },
   "source": [
    "## About the company\n",
    "\n",
    "Urška Sršen and Sando Mur founded Bellabeat, a high-tech company that manufactures health-focused smart products. Sršen used her background as an artist to develop beautifully designed technology that informs and inspires women around the world. Collecting data on activity, sleep, stress, and reproductive health has allowed Bellabeat to empower women with knowledge about their own health and habits. Since it was founded in 2013, Bellabeat has grown rapidly and quickly positioned itself as a tech-driven wellness company for women.\n",
    "\n",
    "By 2016, Bellabeat had opened offices around the world and launched multiple products. Bellabeat products became available through a growing number of online retailers in addition to their own e-commerce channel on their website. The company has invested in traditional advertising media, such as radio, out-of-home billboards, print, and television, but focuses on digital marketing extensively. Bellabeat invests year-round in Google Search, maintaining active Facebook and Instagram pages, and consistently engages consumers on Twitter. Additionally, Bellabeat runs video ads on Youtube and display ads on the Google Display Network to support campaigns around key marketing dates.\n",
    "\n",
    "Sršen knows that an analysis of Bellabeat’s available consumer data would reveal more opportunities for growth. She has asked the marketing analytics team to focus on a Bellabeat product and analyze smart device usage data in order to gain insight into how people are already using their smart devices. Then, using this information, she would like high-level recommendations for how these trends can inform Bellabeat marketing strategy."
   ]
  },
  {
   "cell_type": "markdown",
   "id": "fe41d7e4",
   "metadata": {
    "papermill": {
     "duration": 0.032774,
     "end_time": "2021-11-25T11:30:56.091082",
     "exception": false,
     "start_time": "2021-11-25T11:30:56.058308",
     "status": "completed"
    },
    "tags": []
   },
   "source": [
    "## STEP 1: ASK\n",
    "\n",
    "In this step, the problem and objectives of our case study and its desired outcome are stated.\n",
    "\n",
    "### Background\n",
    "\n",
    "Bellabeat is a high-tech manufacturer of beautifully-designed health-focused smart products for women since 2013. Inspiring and empowering women with knowledge about their own health and habits, Bellabeat has grown rapidly and quickly positioned itself as a tech-driven wellness company for females.\n",
    "\n",
    "The co-founder and Chief Creative Officer, Urška Sršen is confident that an analysis of non-Bellebeat consumer data (ie. FitBit fitness tracker usage data) would reveal more opportunities for growth.\n",
    "\n",
    "### Business Task:\n",
    "\n",
    "Analyze FitBit fitness tracker data to gain insights into how consumers are using the FitBit app and discover patterns for Bellabeat marketing strategy.\n",
    "\n",
    "### Business Objectives:\n",
    "\n",
    "* What are the patterns identified?\n",
    "\n",
    "* How could these patterns apply to Bellabeat customers?\n",
    "\n",
    "* How could these patterns help influence Bellabeat marketing strategy?\n",
    "\n",
    "### Deliverables:\n",
    "\n",
    "* A clear summary of the business task\n",
    "\n",
    "* A description of all data sources used\n",
    "\n",
    "* Documentation of any cleaning or manipulation of data\n",
    "\n",
    "* A summary of analysis\n",
    "\n",
    "* Supporting visualizations and key findings\n",
    "\n",
    "* High-level content recommendations based on the analysis\n",
    "\n",
    "### Key Stakeholders:\n",
    "\n",
    "* Urška Sršen: Bellabeat’s cofounder and Chief Creative Officer\n",
    "\n",
    "* Sando Mur: Mathematician, Bellabeat’s cofounder and key member of the Bellabeat executive team\n",
    "\n",
    "* Bellabeat marketing analytics team: A team of data analysts guiding Bellabeat’s marketing strategy."
   ]
  },
  {
   "cell_type": "markdown",
   "id": "5b5f9534",
   "metadata": {
    "papermill": {
     "duration": 0.032739,
     "end_time": "2021-11-25T11:30:56.156930",
     "exception": false,
     "start_time": "2021-11-25T11:30:56.124191",
     "status": "completed"
    },
    "tags": []
   },
   "source": [
    "## STEP 2: PREPARE\n",
    "\n",
    "In the Prepare phase, we check the data being used and its limitations.\n",
    "\n",
    "### Information on Data Source:\n",
    "\n",
    "* Data is publicly available on Kaggle: FitBit Fitness Tracker Data and stored in 18 csv files.\n",
    "\n",
    "* Generated by respondents from a survey via Amazon Mechanical Turk between 12 March 2016 to 12 May 2016.\n",
    "\n",
    "* 30 FitBit users consented to the submission of personal tracker data.\n",
    "\n",
    "* Data collected includes physical activity recorded in minutes, heart rate, sleep monitoring, daily activity and steps.\n",
    "\n",
    "### Limitations of Data Set:\n",
    "\n",
    "* Data was collected 5 years ago in 2016. Users’ daily activity, fitness and sleeping habits, diet and food consumption might have changed since then. Data may not be timely or relevant.\n",
    "\n",
    "* Sample size of 30 FitBit users is not representative of the entire fitness population.\n",
    "\n",
    "* As data is collected in a survey, we are unable to ascertain its integrity or accuracy.\n",
    "\n",
    "### Is Data ROCCC?\n",
    "\n",
    "A good data source is ROCCC which stands for Reliable, Original, Comprehensive, Current, and Cited.\n",
    "\n",
    "* Reliable — LOW — Not reliable as it only has 30 respondents\n",
    "\n",
    "* Original — LOW — Third party provider (Amazon Mechanical Turk)\n",
    "\n",
    "* Comprehensive — MEDIUM — Parameters match most of Bellabeat products’ parameters\n",
    "\n",
    "* Current — LOW — Data is 5 years old and may not be relevant\n",
    "\n",
    "* Cited — LOW — Data collected from third party, hence unknown\n",
    "\n",
    "Overall, the dataset is considered low quality data and it is not recommended to produce business recommendations based on this data.\n",
    "\n",
    "### Data Selection\n",
    "\n",
    "The following file is selected and copied for analysis.\n",
    "\n",
    "dailyActivity_merged.csv\n",
    "\n",
    "### Tool Used\n",
    "\n",
    "We are using Python for data cleaning, transformation and visualisation."
   ]
  },
  {
   "cell_type": "markdown",
   "id": "92418eec",
   "metadata": {
    "papermill": {
     "duration": 0.03354,
     "end_time": "2021-11-25T11:30:56.223723",
     "exception": false,
     "start_time": "2021-11-25T11:30:56.190183",
     "status": "completed"
    },
    "tags": []
   },
   "source": [
    "## STEP 3: PROCESS\n",
    "\n",
    "### Preparing the environment"
   ]
  },
  {
   "cell_type": "code",
   "execution_count": 1,
   "id": "7857cb7f",
   "metadata": {
    "execution": {
     "iopub.execute_input": "2021-11-25T11:30:56.304906Z",
     "iopub.status.busy": "2021-11-25T11:30:56.300336Z",
     "iopub.status.idle": "2021-11-25T11:30:57.159896Z",
     "shell.execute_reply": "2021-11-25T11:30:57.159140Z",
     "shell.execute_reply.started": "2021-11-25T11:16:00.683480Z"
    },
    "papermill": {
     "duration": 0.902766,
     "end_time": "2021-11-25T11:30:57.160068",
     "exception": false,
     "start_time": "2021-11-25T11:30:56.257302",
     "status": "completed"
    },
    "tags": []
   },
   "outputs": [],
   "source": [
    "# preparing the environment\n",
    "\n",
    "import pandas as pd\n",
    "import matplotlib.pyplot as plt\n",
    "import numpy as np\n",
    "import seaborn as sns\n",
    "import datetime as dt\n"
   ]
  },
  {
   "cell_type": "markdown",
   "id": "3a45caca",
   "metadata": {
    "papermill": {
     "duration": 0.034413,
     "end_time": "2021-11-25T11:30:57.229200",
     "exception": false,
     "start_time": "2021-11-25T11:30:57.194787",
     "status": "completed"
    },
    "tags": []
   },
   "source": [
    "### Importing the dataset"
   ]
  },
  {
   "cell_type": "code",
   "execution_count": 2,
   "id": "09541f14",
   "metadata": {
    "execution": {
     "iopub.execute_input": "2021-11-25T11:30:57.303298Z",
     "iopub.status.busy": "2021-11-25T11:30:57.302606Z",
     "iopub.status.idle": "2021-11-25T11:30:57.331937Z",
     "shell.execute_reply": "2021-11-25T11:30:57.331341Z",
     "shell.execute_reply.started": "2021-11-25T11:16:01.657658Z"
    },
    "papermill": {
     "duration": 0.069349,
     "end_time": "2021-11-25T11:30:57.332094",
     "exception": false,
     "start_time": "2021-11-25T11:30:57.262745",
     "status": "completed"
    },
    "tags": []
   },
   "outputs": [],
   "source": [
    "# read_csv function to read CSV file\n",
    "\n",
    "daily_activity = pd.read_csv(\"../input/fitbit/Fitabase Data 4.12.16-5.12.16/dailyActivity_merged.csv\")"
   ]
  },
  {
   "cell_type": "markdown",
   "id": "20f58cc5",
   "metadata": {
    "papermill": {
     "duration": 0.033648,
     "end_time": "2021-11-25T11:30:57.399415",
     "exception": false,
     "start_time": "2021-11-25T11:30:57.365767",
     "status": "completed"
    },
    "tags": []
   },
   "source": [
    "### Data Cleaning and Manipulation"
   ]
  },
  {
   "cell_type": "code",
   "execution_count": 3,
   "id": "7e6113b7",
   "metadata": {
    "execution": {
     "iopub.execute_input": "2021-11-25T11:30:57.471187Z",
     "iopub.status.busy": "2021-11-25T11:30:57.470508Z",
     "iopub.status.idle": "2021-11-25T11:30:57.496505Z",
     "shell.execute_reply": "2021-11-25T11:30:57.497012Z",
     "shell.execute_reply.started": "2021-11-25T11:16:01.688891Z"
    },
    "papermill": {
     "duration": 0.06283,
     "end_time": "2021-11-25T11:30:57.497181",
     "exception": false,
     "start_time": "2021-11-25T11:30:57.434351",
     "status": "completed"
    },
    "tags": []
   },
   "outputs": [
    {
     "data": {
      "text/html": [
       "<div>\n",
       "<style scoped>\n",
       "    .dataframe tbody tr th:only-of-type {\n",
       "        vertical-align: middle;\n",
       "    }\n",
       "\n",
       "    .dataframe tbody tr th {\n",
       "        vertical-align: top;\n",
       "    }\n",
       "\n",
       "    .dataframe thead th {\n",
       "        text-align: right;\n",
       "    }\n",
       "</style>\n",
       "<table border=\"1\" class=\"dataframe\">\n",
       "  <thead>\n",
       "    <tr style=\"text-align: right;\">\n",
       "      <th></th>\n",
       "      <th>Id</th>\n",
       "      <th>ActivityDate</th>\n",
       "      <th>TotalSteps</th>\n",
       "      <th>TotalDistance</th>\n",
       "      <th>TrackerDistance</th>\n",
       "      <th>LoggedActivitiesDistance</th>\n",
       "      <th>VeryActiveDistance</th>\n",
       "      <th>ModeratelyActiveDistance</th>\n",
       "      <th>LightActiveDistance</th>\n",
       "      <th>SedentaryActiveDistance</th>\n",
       "      <th>VeryActiveMinutes</th>\n",
       "      <th>FairlyActiveMinutes</th>\n",
       "      <th>LightlyActiveMinutes</th>\n",
       "      <th>SedentaryMinutes</th>\n",
       "      <th>Calories</th>\n",
       "    </tr>\n",
       "  </thead>\n",
       "  <tbody>\n",
       "    <tr>\n",
       "      <th>0</th>\n",
       "      <td>1503960366</td>\n",
       "      <td>4/12/2016</td>\n",
       "      <td>13162</td>\n",
       "      <td>8.50</td>\n",
       "      <td>8.50</td>\n",
       "      <td>0.0</td>\n",
       "      <td>1.88</td>\n",
       "      <td>0.55</td>\n",
       "      <td>6.06</td>\n",
       "      <td>0.0</td>\n",
       "      <td>25</td>\n",
       "      <td>13</td>\n",
       "      <td>328</td>\n",
       "      <td>728</td>\n",
       "      <td>1985</td>\n",
       "    </tr>\n",
       "    <tr>\n",
       "      <th>1</th>\n",
       "      <td>1503960366</td>\n",
       "      <td>4/13/2016</td>\n",
       "      <td>10735</td>\n",
       "      <td>6.97</td>\n",
       "      <td>6.97</td>\n",
       "      <td>0.0</td>\n",
       "      <td>1.57</td>\n",
       "      <td>0.69</td>\n",
       "      <td>4.71</td>\n",
       "      <td>0.0</td>\n",
       "      <td>21</td>\n",
       "      <td>19</td>\n",
       "      <td>217</td>\n",
       "      <td>776</td>\n",
       "      <td>1797</td>\n",
       "    </tr>\n",
       "    <tr>\n",
       "      <th>2</th>\n",
       "      <td>1503960366</td>\n",
       "      <td>4/14/2016</td>\n",
       "      <td>10460</td>\n",
       "      <td>6.74</td>\n",
       "      <td>6.74</td>\n",
       "      <td>0.0</td>\n",
       "      <td>2.44</td>\n",
       "      <td>0.40</td>\n",
       "      <td>3.91</td>\n",
       "      <td>0.0</td>\n",
       "      <td>30</td>\n",
       "      <td>11</td>\n",
       "      <td>181</td>\n",
       "      <td>1218</td>\n",
       "      <td>1776</td>\n",
       "    </tr>\n",
       "    <tr>\n",
       "      <th>3</th>\n",
       "      <td>1503960366</td>\n",
       "      <td>4/15/2016</td>\n",
       "      <td>9762</td>\n",
       "      <td>6.28</td>\n",
       "      <td>6.28</td>\n",
       "      <td>0.0</td>\n",
       "      <td>2.14</td>\n",
       "      <td>1.26</td>\n",
       "      <td>2.83</td>\n",
       "      <td>0.0</td>\n",
       "      <td>29</td>\n",
       "      <td>34</td>\n",
       "      <td>209</td>\n",
       "      <td>726</td>\n",
       "      <td>1745</td>\n",
       "    </tr>\n",
       "    <tr>\n",
       "      <th>4</th>\n",
       "      <td>1503960366</td>\n",
       "      <td>4/16/2016</td>\n",
       "      <td>12669</td>\n",
       "      <td>8.16</td>\n",
       "      <td>8.16</td>\n",
       "      <td>0.0</td>\n",
       "      <td>2.71</td>\n",
       "      <td>0.41</td>\n",
       "      <td>5.04</td>\n",
       "      <td>0.0</td>\n",
       "      <td>36</td>\n",
       "      <td>10</td>\n",
       "      <td>221</td>\n",
       "      <td>773</td>\n",
       "      <td>1863</td>\n",
       "    </tr>\n",
       "  </tbody>\n",
       "</table>\n",
       "</div>"
      ],
      "text/plain": [
       "           Id ActivityDate  TotalSteps  TotalDistance  TrackerDistance  \\\n",
       "0  1503960366    4/12/2016       13162           8.50             8.50   \n",
       "1  1503960366    4/13/2016       10735           6.97             6.97   \n",
       "2  1503960366    4/14/2016       10460           6.74             6.74   \n",
       "3  1503960366    4/15/2016        9762           6.28             6.28   \n",
       "4  1503960366    4/16/2016       12669           8.16             8.16   \n",
       "\n",
       "   LoggedActivitiesDistance  VeryActiveDistance  ModeratelyActiveDistance  \\\n",
       "0                       0.0                1.88                      0.55   \n",
       "1                       0.0                1.57                      0.69   \n",
       "2                       0.0                2.44                      0.40   \n",
       "3                       0.0                2.14                      1.26   \n",
       "4                       0.0                2.71                      0.41   \n",
       "\n",
       "   LightActiveDistance  SedentaryActiveDistance  VeryActiveMinutes  \\\n",
       "0                 6.06                      0.0                 25   \n",
       "1                 4.71                      0.0                 21   \n",
       "2                 3.91                      0.0                 30   \n",
       "3                 2.83                      0.0                 29   \n",
       "4                 5.04                      0.0                 36   \n",
       "\n",
       "   FairlyActiveMinutes  LightlyActiveMinutes  SedentaryMinutes  Calories  \n",
       "0                   13                   328               728      1985  \n",
       "1                   19                   217               776      1797  \n",
       "2                   11                   181              1218      1776  \n",
       "3                   34                   209               726      1745  \n",
       "4                   10                   221               773      1863  "
      ]
     },
     "execution_count": 3,
     "metadata": {},
     "output_type": "execute_result"
    }
   ],
   "source": [
    "# previewing the first 5 rows of the dataset\n",
    "\n",
    "daily_activity.head()"
   ]
  },
  {
   "cell_type": "markdown",
   "id": "d238ff75",
   "metadata": {
    "papermill": {
     "duration": 0.033713,
     "end_time": "2021-11-25T11:30:57.565507",
     "exception": false,
     "start_time": "2021-11-25T11:30:57.531794",
     "status": "completed"
    },
    "tags": []
   },
   "source": [
    "### Check for null or missing values in the dataset"
   ]
  },
  {
   "cell_type": "code",
   "execution_count": 4,
   "id": "c7024519",
   "metadata": {
    "execution": {
     "iopub.execute_input": "2021-11-25T11:30:57.636443Z",
     "iopub.status.busy": "2021-11-25T11:30:57.635759Z",
     "iopub.status.idle": "2021-11-25T11:30:57.642126Z",
     "shell.execute_reply": "2021-11-25T11:30:57.641485Z",
     "shell.execute_reply.started": "2021-11-25T11:16:01.719454Z"
    },
    "papermill": {
     "duration": 0.042811,
     "end_time": "2021-11-25T11:30:57.642283",
     "exception": false,
     "start_time": "2021-11-25T11:30:57.599472",
     "status": "completed"
    },
    "tags": []
   },
   "outputs": [],
   "source": [
    "# Obtain the no of missing data points per column\n",
    "\n",
    "missing_value_counts = daily_activity.isnull().sum()"
   ]
  },
  {
   "cell_type": "code",
   "execution_count": 5,
   "id": "297efe8f",
   "metadata": {
    "execution": {
     "iopub.execute_input": "2021-11-25T11:30:57.716826Z",
     "iopub.status.busy": "2021-11-25T11:30:57.716144Z",
     "iopub.status.idle": "2021-11-25T11:30:57.718736Z",
     "shell.execute_reply": "2021-11-25T11:30:57.719354Z",
     "shell.execute_reply.started": "2021-11-25T11:16:01.728366Z"
    },
    "papermill": {
     "duration": 0.04348,
     "end_time": "2021-11-25T11:30:57.719521",
     "exception": false,
     "start_time": "2021-11-25T11:30:57.676041",
     "status": "completed"
    },
    "tags": []
   },
   "outputs": [
    {
     "data": {
      "text/plain": [
       "Id                          0\n",
       "ActivityDate                0\n",
       "TotalSteps                  0\n",
       "TotalDistance               0\n",
       "TrackerDistance             0\n",
       "LoggedActivitiesDistance    0\n",
       "VeryActiveDistance          0\n",
       "ModeratelyActiveDistance    0\n",
       "LightActiveDistance         0\n",
       "SedentaryActiveDistance     0\n",
       "VeryActiveMinutes           0\n",
       "FairlyActiveMinutes         0\n",
       "LightlyActiveMinutes        0\n",
       "SedentaryMinutes            0\n",
       "Calories                    0\n",
       "dtype: int64"
      ]
     },
     "execution_count": 5,
     "metadata": {},
     "output_type": "execute_result"
    }
   ],
   "source": [
    "# Look for the no of missing points in all columns\n",
    "\n",
    "missing_value_counts[:]"
   ]
  },
  {
   "cell_type": "markdown",
   "id": "1b0f0b24",
   "metadata": {
    "papermill": {
     "duration": 0.093488,
     "end_time": "2021-11-25T11:30:57.847338",
     "exception": false,
     "start_time": "2021-11-25T11:30:57.753850",
     "status": "completed"
    },
    "tags": []
   },
   "source": [
    "### Finding out the basic information about the data"
   ]
  },
  {
   "cell_type": "code",
   "execution_count": 6,
   "id": "98d4e3cf",
   "metadata": {
    "execution": {
     "iopub.execute_input": "2021-11-25T11:30:57.919332Z",
     "iopub.status.busy": "2021-11-25T11:30:57.918670Z",
     "iopub.status.idle": "2021-11-25T11:30:57.940840Z",
     "shell.execute_reply": "2021-11-25T11:30:57.941481Z",
     "shell.execute_reply.started": "2021-11-25T11:16:01.741893Z"
    },
    "papermill": {
     "duration": 0.059983,
     "end_time": "2021-11-25T11:30:57.941668",
     "exception": false,
     "start_time": "2021-11-25T11:30:57.881685",
     "status": "completed"
    },
    "tags": []
   },
   "outputs": [
    {
     "name": "stdout",
     "output_type": "stream",
     "text": [
      "<class 'pandas.core.frame.DataFrame'>\n",
      "RangeIndex: 940 entries, 0 to 939\n",
      "Data columns (total 15 columns):\n",
      " #   Column                    Non-Null Count  Dtype  \n",
      "---  ------                    --------------  -----  \n",
      " 0   Id                        940 non-null    int64  \n",
      " 1   ActivityDate              940 non-null    object \n",
      " 2   TotalSteps                940 non-null    int64  \n",
      " 3   TotalDistance             940 non-null    float64\n",
      " 4   TrackerDistance           940 non-null    float64\n",
      " 5   LoggedActivitiesDistance  940 non-null    float64\n",
      " 6   VeryActiveDistance        940 non-null    float64\n",
      " 7   ModeratelyActiveDistance  940 non-null    float64\n",
      " 8   LightActiveDistance       940 non-null    float64\n",
      " 9   SedentaryActiveDistance   940 non-null    float64\n",
      " 10  VeryActiveMinutes         940 non-null    int64  \n",
      " 11  FairlyActiveMinutes       940 non-null    int64  \n",
      " 12  LightlyActiveMinutes      940 non-null    int64  \n",
      " 13  SedentaryMinutes          940 non-null    int64  \n",
      " 14  Calories                  940 non-null    int64  \n",
      "dtypes: float64(7), int64(7), object(1)\n",
      "memory usage: 110.3+ KB\n"
     ]
    }
   ],
   "source": [
    "# show the basic info\n",
    "\n",
    "daily_activity.info()"
   ]
  },
  {
   "cell_type": "markdown",
   "id": "d6c14272",
   "metadata": {
    "papermill": {
     "duration": 0.034376,
     "end_time": "2021-11-25T11:30:58.011566",
     "exception": false,
     "start_time": "2021-11-25T11:30:57.977190",
     "status": "completed"
    },
    "tags": []
   },
   "source": [
    "### Count distinct IDs to confirm whether data has 30 IDs as claimed by the survey"
   ]
  },
  {
   "cell_type": "code",
   "execution_count": 7,
   "id": "44d8d6d5",
   "metadata": {
    "execution": {
     "iopub.execute_input": "2021-11-25T11:30:58.084432Z",
     "iopub.status.busy": "2021-11-25T11:30:58.083810Z",
     "iopub.status.idle": "2021-11-25T11:30:58.089493Z",
     "shell.execute_reply": "2021-11-25T11:30:58.090103Z",
     "shell.execute_reply.started": "2021-11-25T11:16:01.772191Z"
    },
    "papermill": {
     "duration": 0.043677,
     "end_time": "2021-11-25T11:30:58.090280",
     "exception": false,
     "start_time": "2021-11-25T11:30:58.046603",
     "status": "completed"
    },
    "tags": []
   },
   "outputs": [
    {
     "name": "stdout",
     "output_type": "stream",
     "text": [
      "# of distinct Id: 33\n"
     ]
    }
   ],
   "source": [
    "# Count distinct value of \"Id\"\n",
    "\n",
    "distinct_id = len(pd.unique(daily_activity[\"Id\"]))\n",
    "\n",
    "print(\"# of distinct Id: \" + str(distinct_id))"
   ]
  },
  {
   "cell_type": "markdown",
   "id": "19a2ef08",
   "metadata": {
    "papermill": {
     "duration": 0.034843,
     "end_time": "2021-11-25T11:30:58.160625",
     "exception": false,
     "start_time": "2021-11-25T11:30:58.125782",
     "status": "completed"
    },
    "tags": []
   },
   "source": [
    "From the above observations, we noted that:\n",
    "\n",
    "1. There are no Null or missing values as stated under the ‘Non-Null Count’.\n",
    "\n",
    "2. Data has 15 columns and 940 rows.\n",
    "\n",
    "3. ActivityDate is wrongly classified as object dtype and has to be converted to datetime64 dtype.\n",
    "\n",
    "4. There are 33 distinct IDs, instead of 30 distinct IDs as expected. Some users might have created additional IDs during the survey period."
   ]
  },
  {
   "cell_type": "markdown",
   "id": "7f30264d",
   "metadata": {
    "papermill": {
     "duration": 0.035193,
     "end_time": "2021-11-25T11:30:58.230683",
     "exception": false,
     "start_time": "2021-11-25T11:30:58.195490",
     "status": "completed"
    },
    "tags": []
   },
   "source": [
    "Now that we have identified the dirty data, we will then perform data cleaning/transformation:\n",
    "\n",
    "1. Convert ActivityDate to datetime64 dtype.\n",
    "\n",
    "2. Convert format of ActivityDate to yyyy-mm-dd.\n",
    "\n",
    "3. Create new column DayOfTheWeek by generating date in the form of day of the week for further analysis.\n",
    "\n",
    "4. Create new column TotalMins being the sum of VeryActiveMinutes, FairlyActiveMinutes, LightlyActiveMinutes and SedentaryMinutes.\n",
    "\n",
    "5. Create new column TotalHours by changing new column TotalMins in no. 4 to number of hours.\n",
    "\n",
    "6. Rearrange and rename columns."
   ]
  },
  {
   "cell_type": "code",
   "execution_count": 8,
   "id": "e8c136da",
   "metadata": {
    "execution": {
     "iopub.execute_input": "2021-11-25T11:30:58.305042Z",
     "iopub.status.busy": "2021-11-25T11:30:58.304338Z",
     "iopub.status.idle": "2021-11-25T11:30:58.312993Z",
     "shell.execute_reply": "2021-11-25T11:30:58.313526Z",
     "shell.execute_reply.started": "2021-11-25T11:16:01.778744Z"
    },
    "papermill": {
     "duration": 0.048147,
     "end_time": "2021-11-25T11:30:58.313700",
     "exception": false,
     "start_time": "2021-11-25T11:30:58.265553",
     "status": "completed"
    },
    "tags": []
   },
   "outputs": [],
   "source": [
    "# First thing, convert the ActivityDate from object to datetime64 dtype\n",
    "\n",
    "daily_activity[\"ActivityDate\"] = pd.to_datetime(daily_activity[\"ActivityDate\"], format = \"%m/%d/%Y\")"
   ]
  },
  {
   "cell_type": "code",
   "execution_count": 9,
   "id": "0190d814",
   "metadata": {
    "execution": {
     "iopub.execute_input": "2021-11-25T11:30:58.387102Z",
     "iopub.status.busy": "2021-11-25T11:30:58.386470Z",
     "iopub.status.idle": "2021-11-25T11:30:58.398636Z",
     "shell.execute_reply": "2021-11-25T11:30:58.397952Z",
     "shell.execute_reply.started": "2021-11-25T11:16:01.798269Z"
    },
    "papermill": {
     "duration": 0.049978,
     "end_time": "2021-11-25T11:30:58.398779",
     "exception": false,
     "start_time": "2021-11-25T11:30:58.348801",
     "status": "completed"
    },
    "tags": []
   },
   "outputs": [
    {
     "name": "stdout",
     "output_type": "stream",
     "text": [
      "<class 'pandas.core.frame.DataFrame'>\n",
      "RangeIndex: 940 entries, 0 to 939\n",
      "Data columns (total 15 columns):\n",
      " #   Column                    Non-Null Count  Dtype         \n",
      "---  ------                    --------------  -----         \n",
      " 0   Id                        940 non-null    int64         \n",
      " 1   ActivityDate              940 non-null    datetime64[ns]\n",
      " 2   TotalSteps                940 non-null    int64         \n",
      " 3   TotalDistance             940 non-null    float64       \n",
      " 4   TrackerDistance           940 non-null    float64       \n",
      " 5   LoggedActivitiesDistance  940 non-null    float64       \n",
      " 6   VeryActiveDistance        940 non-null    float64       \n",
      " 7   ModeratelyActiveDistance  940 non-null    float64       \n",
      " 8   LightActiveDistance       940 non-null    float64       \n",
      " 9   SedentaryActiveDistance   940 non-null    float64       \n",
      " 10  VeryActiveMinutes         940 non-null    int64         \n",
      " 11  FairlyActiveMinutes       940 non-null    int64         \n",
      " 12  LightlyActiveMinutes      940 non-null    int64         \n",
      " 13  SedentaryMinutes          940 non-null    int64         \n",
      " 14  Calories                  940 non-null    int64         \n",
      "dtypes: datetime64[ns](1), float64(7), int64(7)\n",
      "memory usage: 110.3 KB\n"
     ]
    }
   ],
   "source": [
    "#re-print information to confirm\n",
    "\n",
    "daily_activity.info()"
   ]
  },
  {
   "cell_type": "code",
   "execution_count": 10,
   "id": "5998a0cb",
   "metadata": {
    "execution": {
     "iopub.execute_input": "2021-11-25T11:30:58.477629Z",
     "iopub.status.busy": "2021-11-25T11:30:58.476914Z",
     "iopub.status.idle": "2021-11-25T11:30:58.480987Z",
     "shell.execute_reply": "2021-11-25T11:30:58.480344Z",
     "shell.execute_reply.started": "2021-11-25T11:16:01.822179Z"
    },
    "papermill": {
     "duration": 0.045936,
     "end_time": "2021-11-25T11:30:58.481133",
     "exception": false,
     "start_time": "2021-11-25T11:30:58.435197",
     "status": "completed"
    },
    "tags": []
   },
   "outputs": [
    {
     "data": {
      "text/plain": [
       "0   2016-04-12\n",
       "1   2016-04-13\n",
       "2   2016-04-14\n",
       "3   2016-04-15\n",
       "4   2016-04-16\n",
       "Name: ActivityDate, dtype: datetime64[ns]"
      ]
     },
     "execution_count": 10,
     "metadata": {},
     "output_type": "execute_result"
    }
   ],
   "source": [
    "#print the first 5 rows of \"ActivtyDate\" to confirm\n",
    "\n",
    "daily_activity[\"ActivityDate\"].head(5)"
   ]
  },
  {
   "cell_type": "markdown",
   "id": "023f9bd9",
   "metadata": {
    "papermill": {
     "duration": 0.035664,
     "end_time": "2021-11-25T11:30:58.552636",
     "exception": false,
     "start_time": "2021-11-25T11:30:58.516972",
     "status": "completed"
    },
    "tags": []
   },
   "source": [
    "### Creating new list with rearranged column names and changing daily_activity to a shorter name df_activity"
   ]
  },
  {
   "cell_type": "code",
   "execution_count": 11,
   "id": "49f28e50",
   "metadata": {
    "execution": {
     "iopub.execute_input": "2021-11-25T11:30:58.630114Z",
     "iopub.status.busy": "2021-11-25T11:30:58.629408Z",
     "iopub.status.idle": "2021-11-25T11:30:58.632334Z",
     "shell.execute_reply": "2021-11-25T11:30:58.631772Z",
     "shell.execute_reply.started": "2021-11-25T11:16:01.831143Z"
    },
    "papermill": {
     "duration": 0.04399,
     "end_time": "2021-11-25T11:30:58.632501",
     "exception": false,
     "start_time": "2021-11-25T11:30:58.588511",
     "status": "completed"
    },
    "tags": []
   },
   "outputs": [],
   "source": [
    "# Create new list of re-arranged columns\n",
    "\n",
    "new_cols = ['Id', 'ActivityDate','DayOfTheWeek', 'TotalSteps', 'TotalDistance', 'TrackerDistance', 'LoggedActivitiesDistance', 'VeryActiveDistance', 'ModeratelyActiveDistance', 'LightActiveDistance', 'SedentaryActiveDistance', 'VeryActiveMinutes', 'FairlyActiveMinutes', \n",
    "            'LightlyActiveMinutes', 'SedentaryMinutes', 'TotalExerciseMinutes', 'TotalExerciseHours', 'Calories']"
   ]
  },
  {
   "cell_type": "code",
   "execution_count": 12,
   "id": "173579a3",
   "metadata": {
    "execution": {
     "iopub.execute_input": "2021-11-25T11:30:58.712730Z",
     "iopub.status.busy": "2021-11-25T11:30:58.712051Z",
     "iopub.status.idle": "2021-11-25T11:30:58.714675Z",
     "shell.execute_reply": "2021-11-25T11:30:58.715129Z",
     "shell.execute_reply.started": "2021-11-25T11:16:01.843686Z"
    },
    "papermill": {
     "duration": 0.046359,
     "end_time": "2021-11-25T11:30:58.715326",
     "exception": false,
     "start_time": "2021-11-25T11:30:58.668967",
     "status": "completed"
    },
    "tags": []
   },
   "outputs": [],
   "source": [
    "# reindex function to re-arrange columns based on \"new_cols\"\n",
    "\n",
    "df_activity = daily_activity.reindex(columns=new_cols)"
   ]
  },
  {
   "cell_type": "code",
   "execution_count": 13,
   "id": "015748e9",
   "metadata": {
    "execution": {
     "iopub.execute_input": "2021-11-25T11:30:58.808119Z",
     "iopub.status.busy": "2021-11-25T11:30:58.807403Z",
     "iopub.status.idle": "2021-11-25T11:30:58.810809Z",
     "shell.execute_reply": "2021-11-25T11:30:58.810223Z",
     "shell.execute_reply.started": "2021-11-25T11:16:01.864171Z"
    },
    "papermill": {
     "duration": 0.060011,
     "end_time": "2021-11-25T11:30:58.810952",
     "exception": false,
     "start_time": "2021-11-25T11:30:58.750941",
     "status": "completed"
    },
    "tags": []
   },
   "outputs": [
    {
     "data": {
      "text/html": [
       "<div>\n",
       "<style scoped>\n",
       "    .dataframe tbody tr th:only-of-type {\n",
       "        vertical-align: middle;\n",
       "    }\n",
       "\n",
       "    .dataframe tbody tr th {\n",
       "        vertical-align: top;\n",
       "    }\n",
       "\n",
       "    .dataframe thead th {\n",
       "        text-align: right;\n",
       "    }\n",
       "</style>\n",
       "<table border=\"1\" class=\"dataframe\">\n",
       "  <thead>\n",
       "    <tr style=\"text-align: right;\">\n",
       "      <th></th>\n",
       "      <th>Id</th>\n",
       "      <th>ActivityDate</th>\n",
       "      <th>DayOfTheWeek</th>\n",
       "      <th>TotalSteps</th>\n",
       "      <th>TotalDistance</th>\n",
       "      <th>TrackerDistance</th>\n",
       "      <th>LoggedActivitiesDistance</th>\n",
       "      <th>VeryActiveDistance</th>\n",
       "      <th>ModeratelyActiveDistance</th>\n",
       "      <th>LightActiveDistance</th>\n",
       "      <th>SedentaryActiveDistance</th>\n",
       "      <th>VeryActiveMinutes</th>\n",
       "      <th>FairlyActiveMinutes</th>\n",
       "      <th>LightlyActiveMinutes</th>\n",
       "      <th>SedentaryMinutes</th>\n",
       "      <th>TotalExerciseMinutes</th>\n",
       "      <th>TotalExerciseHours</th>\n",
       "      <th>Calories</th>\n",
       "    </tr>\n",
       "  </thead>\n",
       "  <tbody>\n",
       "    <tr>\n",
       "      <th>0</th>\n",
       "      <td>1503960366</td>\n",
       "      <td>2016-04-12</td>\n",
       "      <td>NaN</td>\n",
       "      <td>13162</td>\n",
       "      <td>8.50</td>\n",
       "      <td>8.50</td>\n",
       "      <td>0.0</td>\n",
       "      <td>1.88</td>\n",
       "      <td>0.55</td>\n",
       "      <td>6.06</td>\n",
       "      <td>0.0</td>\n",
       "      <td>25</td>\n",
       "      <td>13</td>\n",
       "      <td>328</td>\n",
       "      <td>728</td>\n",
       "      <td>NaN</td>\n",
       "      <td>NaN</td>\n",
       "      <td>1985</td>\n",
       "    </tr>\n",
       "    <tr>\n",
       "      <th>1</th>\n",
       "      <td>1503960366</td>\n",
       "      <td>2016-04-13</td>\n",
       "      <td>NaN</td>\n",
       "      <td>10735</td>\n",
       "      <td>6.97</td>\n",
       "      <td>6.97</td>\n",
       "      <td>0.0</td>\n",
       "      <td>1.57</td>\n",
       "      <td>0.69</td>\n",
       "      <td>4.71</td>\n",
       "      <td>0.0</td>\n",
       "      <td>21</td>\n",
       "      <td>19</td>\n",
       "      <td>217</td>\n",
       "      <td>776</td>\n",
       "      <td>NaN</td>\n",
       "      <td>NaN</td>\n",
       "      <td>1797</td>\n",
       "    </tr>\n",
       "    <tr>\n",
       "      <th>2</th>\n",
       "      <td>1503960366</td>\n",
       "      <td>2016-04-14</td>\n",
       "      <td>NaN</td>\n",
       "      <td>10460</td>\n",
       "      <td>6.74</td>\n",
       "      <td>6.74</td>\n",
       "      <td>0.0</td>\n",
       "      <td>2.44</td>\n",
       "      <td>0.40</td>\n",
       "      <td>3.91</td>\n",
       "      <td>0.0</td>\n",
       "      <td>30</td>\n",
       "      <td>11</td>\n",
       "      <td>181</td>\n",
       "      <td>1218</td>\n",
       "      <td>NaN</td>\n",
       "      <td>NaN</td>\n",
       "      <td>1776</td>\n",
       "    </tr>\n",
       "    <tr>\n",
       "      <th>3</th>\n",
       "      <td>1503960366</td>\n",
       "      <td>2016-04-15</td>\n",
       "      <td>NaN</td>\n",
       "      <td>9762</td>\n",
       "      <td>6.28</td>\n",
       "      <td>6.28</td>\n",
       "      <td>0.0</td>\n",
       "      <td>2.14</td>\n",
       "      <td>1.26</td>\n",
       "      <td>2.83</td>\n",
       "      <td>0.0</td>\n",
       "      <td>29</td>\n",
       "      <td>34</td>\n",
       "      <td>209</td>\n",
       "      <td>726</td>\n",
       "      <td>NaN</td>\n",
       "      <td>NaN</td>\n",
       "      <td>1745</td>\n",
       "    </tr>\n",
       "    <tr>\n",
       "      <th>4</th>\n",
       "      <td>1503960366</td>\n",
       "      <td>2016-04-16</td>\n",
       "      <td>NaN</td>\n",
       "      <td>12669</td>\n",
       "      <td>8.16</td>\n",
       "      <td>8.16</td>\n",
       "      <td>0.0</td>\n",
       "      <td>2.71</td>\n",
       "      <td>0.41</td>\n",
       "      <td>5.04</td>\n",
       "      <td>0.0</td>\n",
       "      <td>36</td>\n",
       "      <td>10</td>\n",
       "      <td>221</td>\n",
       "      <td>773</td>\n",
       "      <td>NaN</td>\n",
       "      <td>NaN</td>\n",
       "      <td>1863</td>\n",
       "    </tr>\n",
       "  </tbody>\n",
       "</table>\n",
       "</div>"
      ],
      "text/plain": [
       "           Id ActivityDate  DayOfTheWeek  TotalSteps  TotalDistance  \\\n",
       "0  1503960366   2016-04-12           NaN       13162           8.50   \n",
       "1  1503960366   2016-04-13           NaN       10735           6.97   \n",
       "2  1503960366   2016-04-14           NaN       10460           6.74   \n",
       "3  1503960366   2016-04-15           NaN        9762           6.28   \n",
       "4  1503960366   2016-04-16           NaN       12669           8.16   \n",
       "\n",
       "   TrackerDistance  LoggedActivitiesDistance  VeryActiveDistance  \\\n",
       "0             8.50                       0.0                1.88   \n",
       "1             6.97                       0.0                1.57   \n",
       "2             6.74                       0.0                2.44   \n",
       "3             6.28                       0.0                2.14   \n",
       "4             8.16                       0.0                2.71   \n",
       "\n",
       "   ModeratelyActiveDistance  LightActiveDistance  SedentaryActiveDistance  \\\n",
       "0                      0.55                 6.06                      0.0   \n",
       "1                      0.69                 4.71                      0.0   \n",
       "2                      0.40                 3.91                      0.0   \n",
       "3                      1.26                 2.83                      0.0   \n",
       "4                      0.41                 5.04                      0.0   \n",
       "\n",
       "   VeryActiveMinutes  FairlyActiveMinutes  LightlyActiveMinutes  \\\n",
       "0                 25                   13                   328   \n",
       "1                 21                   19                   217   \n",
       "2                 30                   11                   181   \n",
       "3                 29                   34                   209   \n",
       "4                 36                   10                   221   \n",
       "\n",
       "   SedentaryMinutes  TotalExerciseMinutes  TotalExerciseHours  Calories  \n",
       "0               728                   NaN                 NaN      1985  \n",
       "1               776                   NaN                 NaN      1797  \n",
       "2              1218                   NaN                 NaN      1776  \n",
       "3               726                   NaN                 NaN      1745  \n",
       "4               773                   NaN                 NaN      1863  "
      ]
     },
     "execution_count": 13,
     "metadata": {},
     "output_type": "execute_result"
    }
   ],
   "source": [
    "# print the first 5 rows to confirm\n",
    "\n",
    "df_activity.head(5)"
   ]
  },
  {
   "cell_type": "markdown",
   "id": "14059121",
   "metadata": {
    "papermill": {
     "duration": 0.036295,
     "end_time": "2021-11-25T11:30:58.884143",
     "exception": false,
     "start_time": "2021-11-25T11:30:58.847848",
     "status": "completed"
    },
    "tags": []
   },
   "source": [
    "### Creating new column by separating the date into day of the week for further analysis."
   ]
  },
  {
   "cell_type": "code",
   "execution_count": 14,
   "id": "173c89a4",
   "metadata": {
    "execution": {
     "iopub.execute_input": "2021-11-25T11:30:58.964029Z",
     "iopub.status.busy": "2021-11-25T11:30:58.963353Z",
     "iopub.status.idle": "2021-11-25T11:30:58.966794Z",
     "shell.execute_reply": "2021-11-25T11:30:58.966270Z",
     "shell.execute_reply.started": "2021-11-25T11:16:01.893914Z"
    },
    "papermill": {
     "duration": 0.046007,
     "end_time": "2021-11-25T11:30:58.966933",
     "exception": false,
     "start_time": "2021-11-25T11:30:58.920926",
     "status": "completed"
    },
    "tags": []
   },
   "outputs": [],
   "source": [
    "# Create new column \"day_of_the_week\" to represent day of the week\n",
    "\n",
    "df_activity[\"DayOfTheWeek\"] = df_activity[\"ActivityDate\"].dt.day_name()"
   ]
  },
  {
   "cell_type": "code",
   "execution_count": 15,
   "id": "58bfa7f4",
   "metadata": {
    "execution": {
     "iopub.execute_input": "2021-11-25T11:30:59.046611Z",
     "iopub.status.busy": "2021-11-25T11:30:59.045935Z",
     "iopub.status.idle": "2021-11-25T11:30:59.049338Z",
     "shell.execute_reply": "2021-11-25T11:30:59.048669Z",
     "shell.execute_reply.started": "2021-11-25T11:16:01.902089Z"
    },
    "papermill": {
     "duration": 0.046007,
     "end_time": "2021-11-25T11:30:59.049482",
     "exception": false,
     "start_time": "2021-11-25T11:30:59.003475",
     "status": "completed"
    },
    "tags": []
   },
   "outputs": [
    {
     "data": {
      "text/plain": [
       "0      Tuesday\n",
       "1    Wednesday\n",
       "2     Thursday\n",
       "3       Friday\n",
       "4     Saturday\n",
       "Name: DayOfTheWeek, dtype: object"
      ]
     },
     "execution_count": 15,
     "metadata": {},
     "output_type": "execute_result"
    }
   ],
   "source": [
    "# print the first 5 rows to confirm\n",
    "\n",
    "df_activity[\"DayOfTheWeek\"].head(5)"
   ]
  },
  {
   "cell_type": "code",
   "execution_count": 16,
   "id": "29f962e8",
   "metadata": {
    "execution": {
     "iopub.execute_input": "2021-11-25T11:30:59.130854Z",
     "iopub.status.busy": "2021-11-25T11:30:59.130059Z",
     "iopub.status.idle": "2021-11-25T11:30:59.132501Z",
     "shell.execute_reply": "2021-11-25T11:30:59.132942Z",
     "shell.execute_reply.started": "2021-11-25T11:16:01.919823Z"
    },
    "papermill": {
     "duration": 0.046619,
     "end_time": "2021-11-25T11:30:59.133116",
     "exception": false,
     "start_time": "2021-11-25T11:30:59.086497",
     "status": "completed"
    },
    "tags": []
   },
   "outputs": [],
   "source": [
    "# Rearranging and renaming columns from \"MmmNnn\" to \"mmm_nnn\"\n",
    "\n",
    "df_activity.rename(columns={\"Id\":\"id\", \"ActivityDate\":\"date\", \"DayOfTheWeek\":\"day_of_the_week\", \"TotalSteps\":\"total_steps\", \n",
    "                              \"TotalDistance\":\"total_dist\", \"TrackerDistance\":\"track_dist\", \n",
    "                              \"LoggedActivitiesDistance\":\"logged_dist\", \"VeryActiveDistance\":\"very_active_dist\", \n",
    "                              \"ModeratelyActiveDistance\":\"moderate_active_dist\", \"LightActiveDistance\":\"light_active_dist\", \n",
    "                              \"SedentaryActiveDistance\":\"sedentary_active_dist\", \"VeryActiveMinutes\":\"very_active_mins\", \n",
    "                              \"FairlyActiveMinutes\":\"fairly_active_mins\", \"LightlyActiveMinutes\":\"lightly_active_mins\", \n",
    "                              \"SedentaryMinutes\":\"sedentary_mins\", \"TotalExerciseMinutes\":\"total_mins\",\n",
    "                              \"TotalExerciseHours\":\"total_hours\",\"Calories\":\"calories\"}, inplace=True)"
   ]
  },
  {
   "cell_type": "code",
   "execution_count": 17,
   "id": "df3543bc",
   "metadata": {
    "execution": {
     "iopub.execute_input": "2021-11-25T11:30:59.228553Z",
     "iopub.status.busy": "2021-11-25T11:30:59.227601Z",
     "iopub.status.idle": "2021-11-25T11:30:59.233792Z",
     "shell.execute_reply": "2021-11-25T11:30:59.232991Z",
     "shell.execute_reply.started": "2021-11-25T11:16:01.930730Z"
    },
    "papermill": {
     "duration": 0.064373,
     "end_time": "2021-11-25T11:30:59.233987",
     "exception": false,
     "start_time": "2021-11-25T11:30:59.169614",
     "status": "completed"
    },
    "tags": []
   },
   "outputs": [
    {
     "name": "stdout",
     "output_type": "stream",
     "text": [
      "['id' 'date' 'day_of_the_week' 'total_steps' 'total_dist' 'track_dist'\n",
      " 'logged_dist' 'very_active_dist' 'moderate_active_dist'\n",
      " 'light_active_dist' 'sedentary_active_dist' 'very_active_mins'\n",
      " 'fairly_active_mins' 'lightly_active_mins' 'sedentary_mins' 'total_mins'\n",
      " 'total_hours' 'calories']\n"
     ]
    },
    {
     "data": {
      "text/html": [
       "<div>\n",
       "<style scoped>\n",
       "    .dataframe tbody tr th:only-of-type {\n",
       "        vertical-align: middle;\n",
       "    }\n",
       "\n",
       "    .dataframe tbody tr th {\n",
       "        vertical-align: top;\n",
       "    }\n",
       "\n",
       "    .dataframe thead th {\n",
       "        text-align: right;\n",
       "    }\n",
       "</style>\n",
       "<table border=\"1\" class=\"dataframe\">\n",
       "  <thead>\n",
       "    <tr style=\"text-align: right;\">\n",
       "      <th></th>\n",
       "      <th>id</th>\n",
       "      <th>date</th>\n",
       "      <th>day_of_the_week</th>\n",
       "      <th>total_steps</th>\n",
       "      <th>total_dist</th>\n",
       "      <th>track_dist</th>\n",
       "      <th>logged_dist</th>\n",
       "      <th>very_active_dist</th>\n",
       "      <th>moderate_active_dist</th>\n",
       "      <th>light_active_dist</th>\n",
       "      <th>sedentary_active_dist</th>\n",
       "      <th>very_active_mins</th>\n",
       "      <th>fairly_active_mins</th>\n",
       "      <th>lightly_active_mins</th>\n",
       "      <th>sedentary_mins</th>\n",
       "      <th>total_mins</th>\n",
       "      <th>total_hours</th>\n",
       "      <th>calories</th>\n",
       "    </tr>\n",
       "  </thead>\n",
       "  <tbody>\n",
       "    <tr>\n",
       "      <th>0</th>\n",
       "      <td>1503960366</td>\n",
       "      <td>2016-04-12</td>\n",
       "      <td>Tuesday</td>\n",
       "      <td>13162</td>\n",
       "      <td>8.50</td>\n",
       "      <td>8.50</td>\n",
       "      <td>0.0</td>\n",
       "      <td>1.88</td>\n",
       "      <td>0.55</td>\n",
       "      <td>6.06</td>\n",
       "      <td>0.0</td>\n",
       "      <td>25</td>\n",
       "      <td>13</td>\n",
       "      <td>328</td>\n",
       "      <td>728</td>\n",
       "      <td>NaN</td>\n",
       "      <td>NaN</td>\n",
       "      <td>1985</td>\n",
       "    </tr>\n",
       "    <tr>\n",
       "      <th>1</th>\n",
       "      <td>1503960366</td>\n",
       "      <td>2016-04-13</td>\n",
       "      <td>Wednesday</td>\n",
       "      <td>10735</td>\n",
       "      <td>6.97</td>\n",
       "      <td>6.97</td>\n",
       "      <td>0.0</td>\n",
       "      <td>1.57</td>\n",
       "      <td>0.69</td>\n",
       "      <td>4.71</td>\n",
       "      <td>0.0</td>\n",
       "      <td>21</td>\n",
       "      <td>19</td>\n",
       "      <td>217</td>\n",
       "      <td>776</td>\n",
       "      <td>NaN</td>\n",
       "      <td>NaN</td>\n",
       "      <td>1797</td>\n",
       "    </tr>\n",
       "    <tr>\n",
       "      <th>2</th>\n",
       "      <td>1503960366</td>\n",
       "      <td>2016-04-14</td>\n",
       "      <td>Thursday</td>\n",
       "      <td>10460</td>\n",
       "      <td>6.74</td>\n",
       "      <td>6.74</td>\n",
       "      <td>0.0</td>\n",
       "      <td>2.44</td>\n",
       "      <td>0.40</td>\n",
       "      <td>3.91</td>\n",
       "      <td>0.0</td>\n",
       "      <td>30</td>\n",
       "      <td>11</td>\n",
       "      <td>181</td>\n",
       "      <td>1218</td>\n",
       "      <td>NaN</td>\n",
       "      <td>NaN</td>\n",
       "      <td>1776</td>\n",
       "    </tr>\n",
       "    <tr>\n",
       "      <th>3</th>\n",
       "      <td>1503960366</td>\n",
       "      <td>2016-04-15</td>\n",
       "      <td>Friday</td>\n",
       "      <td>9762</td>\n",
       "      <td>6.28</td>\n",
       "      <td>6.28</td>\n",
       "      <td>0.0</td>\n",
       "      <td>2.14</td>\n",
       "      <td>1.26</td>\n",
       "      <td>2.83</td>\n",
       "      <td>0.0</td>\n",
       "      <td>29</td>\n",
       "      <td>34</td>\n",
       "      <td>209</td>\n",
       "      <td>726</td>\n",
       "      <td>NaN</td>\n",
       "      <td>NaN</td>\n",
       "      <td>1745</td>\n",
       "    </tr>\n",
       "    <tr>\n",
       "      <th>4</th>\n",
       "      <td>1503960366</td>\n",
       "      <td>2016-04-16</td>\n",
       "      <td>Saturday</td>\n",
       "      <td>12669</td>\n",
       "      <td>8.16</td>\n",
       "      <td>8.16</td>\n",
       "      <td>0.0</td>\n",
       "      <td>2.71</td>\n",
       "      <td>0.41</td>\n",
       "      <td>5.04</td>\n",
       "      <td>0.0</td>\n",
       "      <td>36</td>\n",
       "      <td>10</td>\n",
       "      <td>221</td>\n",
       "      <td>773</td>\n",
       "      <td>NaN</td>\n",
       "      <td>NaN</td>\n",
       "      <td>1863</td>\n",
       "    </tr>\n",
       "  </tbody>\n",
       "</table>\n",
       "</div>"
      ],
      "text/plain": [
       "           id       date day_of_the_week  total_steps  total_dist  track_dist  \\\n",
       "0  1503960366 2016-04-12         Tuesday        13162        8.50        8.50   \n",
       "1  1503960366 2016-04-13       Wednesday        10735        6.97        6.97   \n",
       "2  1503960366 2016-04-14        Thursday        10460        6.74        6.74   \n",
       "3  1503960366 2016-04-15          Friday         9762        6.28        6.28   \n",
       "4  1503960366 2016-04-16        Saturday        12669        8.16        8.16   \n",
       "\n",
       "   logged_dist  very_active_dist  moderate_active_dist  light_active_dist  \\\n",
       "0          0.0              1.88                  0.55               6.06   \n",
       "1          0.0              1.57                  0.69               4.71   \n",
       "2          0.0              2.44                  0.40               3.91   \n",
       "3          0.0              2.14                  1.26               2.83   \n",
       "4          0.0              2.71                  0.41               5.04   \n",
       "\n",
       "   sedentary_active_dist  very_active_mins  fairly_active_mins  \\\n",
       "0                    0.0                25                  13   \n",
       "1                    0.0                21                  19   \n",
       "2                    0.0                30                  11   \n",
       "3                    0.0                29                  34   \n",
       "4                    0.0                36                  10   \n",
       "\n",
       "   lightly_active_mins  sedentary_mins  total_mins  total_hours  calories  \n",
       "0                  328             728         NaN          NaN      1985  \n",
       "1                  217             776         NaN          NaN      1797  \n",
       "2                  181            1218         NaN          NaN      1776  \n",
       "3                  209             726         NaN          NaN      1745  \n",
       "4                  221             773         NaN          NaN      1863  "
      ]
     },
     "execution_count": 17,
     "metadata": {},
     "output_type": "execute_result"
    }
   ],
   "source": [
    "# print column names to confirm\n",
    "\n",
    "print(df_activity.columns.values)\n",
    "\n",
    "df_activity.head(5)"
   ]
  },
  {
   "cell_type": "markdown",
   "id": "0c6aed30",
   "metadata": {
    "papermill": {
     "duration": 0.038123,
     "end_time": "2021-11-25T11:30:59.311667",
     "exception": false,
     "start_time": "2021-11-25T11:30:59.273544",
     "status": "completed"
    },
    "tags": []
   },
   "source": [
    "### Create new column total_mins being the sum of total time logged"
   ]
  },
  {
   "cell_type": "code",
   "execution_count": 18,
   "id": "f09993f7",
   "metadata": {
    "execution": {
     "iopub.execute_input": "2021-11-25T11:30:59.397690Z",
     "iopub.status.busy": "2021-11-25T11:30:59.396620Z",
     "iopub.status.idle": "2021-11-25T11:30:59.400287Z",
     "shell.execute_reply": "2021-11-25T11:30:59.400765Z",
     "shell.execute_reply.started": "2021-11-25T11:16:01.965482Z"
    },
    "papermill": {
     "duration": 0.050509,
     "end_time": "2021-11-25T11:30:59.400944",
     "exception": false,
     "start_time": "2021-11-25T11:30:59.350435",
     "status": "completed"
    },
    "tags": []
   },
   "outputs": [
    {
     "data": {
      "text/plain": [
       "0    1094\n",
       "1    1033\n",
       "2    1440\n",
       "3     998\n",
       "4    1040\n",
       "Name: total_mins, dtype: int64"
      ]
     },
     "execution_count": 18,
     "metadata": {},
     "output_type": "execute_result"
    }
   ],
   "source": [
    "# create new column \"total_mins\" containing sum of total minutes\n",
    "\n",
    "df_activity[\"total_mins\"] = df_activity[\"very_active_mins\"] + df_activity[\"fairly_active_mins\"] + df_activity[\"lightly_active_mins\"] + df_activity[\"sedentary_mins\"]\n",
    "\n",
    "df_activity[\"total_mins\"].head(5)"
   ]
  },
  {
   "cell_type": "markdown",
   "id": "ef2dbe52",
   "metadata": {
    "papermill": {
     "duration": 0.038168,
     "end_time": "2021-11-25T11:30:59.478873",
     "exception": false,
     "start_time": "2021-11-25T11:30:59.440705",
     "status": "completed"
    },
    "tags": []
   },
   "source": [
    "### Create new column by changing total_mins to number of hours"
   ]
  },
  {
   "cell_type": "code",
   "execution_count": 19,
   "id": "523594b0",
   "metadata": {
    "execution": {
     "iopub.execute_input": "2021-11-25T11:30:59.564610Z",
     "iopub.status.busy": "2021-11-25T11:30:59.563560Z",
     "iopub.status.idle": "2021-11-25T11:30:59.567660Z",
     "shell.execute_reply": "2021-11-25T11:30:59.567092Z",
     "shell.execute_reply.started": "2021-11-25T11:16:01.978556Z"
    },
    "papermill": {
     "duration": 0.050528,
     "end_time": "2021-11-25T11:30:59.567806",
     "exception": false,
     "start_time": "2021-11-25T11:30:59.517278",
     "status": "completed"
    },
    "tags": []
   },
   "outputs": [
    {
     "data": {
      "text/plain": [
       "0    18.0\n",
       "1    17.0\n",
       "2    24.0\n",
       "3    17.0\n",
       "4    17.0\n",
       "Name: total_hours, dtype: float64"
      ]
     },
     "execution_count": 19,
     "metadata": {},
     "output_type": "execute_result"
    }
   ],
   "source": [
    "# Create new column \"total_hours\" by converting minutes to hour and round float to two decimal places\n",
    "\n",
    "df_activity[\"total_hours\"] = round(df_activity[\"total_mins\"] / 60)\n",
    "\n",
    "# print first 5 rows to confirm\n",
    "\n",
    "df_activity[\"total_hours\"].head(5)"
   ]
  },
  {
   "cell_type": "markdown",
   "id": "95ccfdee",
   "metadata": {
    "papermill": {
     "duration": 0.03815,
     "end_time": "2021-11-25T11:30:59.645283",
     "exception": false,
     "start_time": "2021-11-25T11:30:59.607133",
     "status": "completed"
    },
    "tags": []
   },
   "source": [
    "### Data cleaning and transformation is completed. Data is now ready for analysis"
   ]
  },
  {
   "cell_type": "markdown",
   "id": "5fccba61",
   "metadata": {
    "papermill": {
     "duration": 0.038559,
     "end_time": "2021-11-25T11:30:59.722338",
     "exception": false,
     "start_time": "2021-11-25T11:30:59.683779",
     "status": "completed"
    },
    "tags": []
   },
   "source": [
    "## STEP 4: ANALYSIS\n",
    "\n",
    "### Perform calculations\n",
    "\n",
    "### Pulling statistics for analysis:\n",
    "\n",
    "* count — no. of rows\n",
    "* mean (average)\n",
    "* std (standard deviation)\n",
    "* min and max\n",
    "* percentiles 25%, 50%, 75%"
   ]
  },
  {
   "cell_type": "code",
   "execution_count": 20,
   "id": "a1b75c2e",
   "metadata": {
    "execution": {
     "iopub.execute_input": "2021-11-25T11:30:59.804091Z",
     "iopub.status.busy": "2021-11-25T11:30:59.803181Z",
     "iopub.status.idle": "2021-11-25T11:30:59.858095Z",
     "shell.execute_reply": "2021-11-25T11:30:59.858657Z",
     "shell.execute_reply.started": "2021-11-25T11:16:01.993325Z"
    },
    "papermill": {
     "duration": 0.097975,
     "end_time": "2021-11-25T11:30:59.858847",
     "exception": false,
     "start_time": "2021-11-25T11:30:59.760872",
     "status": "completed"
    },
    "tags": []
   },
   "outputs": [
    {
     "data": {
      "text/html": [
       "<div>\n",
       "<style scoped>\n",
       "    .dataframe tbody tr th:only-of-type {\n",
       "        vertical-align: middle;\n",
       "    }\n",
       "\n",
       "    .dataframe tbody tr th {\n",
       "        vertical-align: top;\n",
       "    }\n",
       "\n",
       "    .dataframe thead th {\n",
       "        text-align: right;\n",
       "    }\n",
       "</style>\n",
       "<table border=\"1\" class=\"dataframe\">\n",
       "  <thead>\n",
       "    <tr style=\"text-align: right;\">\n",
       "      <th></th>\n",
       "      <th>id</th>\n",
       "      <th>total_steps</th>\n",
       "      <th>total_dist</th>\n",
       "      <th>track_dist</th>\n",
       "      <th>logged_dist</th>\n",
       "      <th>very_active_dist</th>\n",
       "      <th>moderate_active_dist</th>\n",
       "      <th>light_active_dist</th>\n",
       "      <th>sedentary_active_dist</th>\n",
       "      <th>very_active_mins</th>\n",
       "      <th>fairly_active_mins</th>\n",
       "      <th>lightly_active_mins</th>\n",
       "      <th>sedentary_mins</th>\n",
       "      <th>total_mins</th>\n",
       "      <th>total_hours</th>\n",
       "      <th>calories</th>\n",
       "    </tr>\n",
       "  </thead>\n",
       "  <tbody>\n",
       "    <tr>\n",
       "      <th>count</th>\n",
       "      <td>9.400000e+02</td>\n",
       "      <td>940.000000</td>\n",
       "      <td>940.000000</td>\n",
       "      <td>940.000000</td>\n",
       "      <td>940.000000</td>\n",
       "      <td>940.000000</td>\n",
       "      <td>940.000000</td>\n",
       "      <td>940.000000</td>\n",
       "      <td>940.000000</td>\n",
       "      <td>940.000000</td>\n",
       "      <td>940.000000</td>\n",
       "      <td>940.000000</td>\n",
       "      <td>940.000000</td>\n",
       "      <td>940.000000</td>\n",
       "      <td>940.000000</td>\n",
       "      <td>940.000000</td>\n",
       "    </tr>\n",
       "    <tr>\n",
       "      <th>mean</th>\n",
       "      <td>4.855407e+09</td>\n",
       "      <td>7637.910638</td>\n",
       "      <td>5.489702</td>\n",
       "      <td>5.475351</td>\n",
       "      <td>0.108171</td>\n",
       "      <td>1.502681</td>\n",
       "      <td>0.567543</td>\n",
       "      <td>3.340819</td>\n",
       "      <td>0.001606</td>\n",
       "      <td>21.164894</td>\n",
       "      <td>13.564894</td>\n",
       "      <td>192.812766</td>\n",
       "      <td>991.210638</td>\n",
       "      <td>1218.753191</td>\n",
       "      <td>20.313830</td>\n",
       "      <td>2303.609574</td>\n",
       "    </tr>\n",
       "    <tr>\n",
       "      <th>std</th>\n",
       "      <td>2.424805e+09</td>\n",
       "      <td>5087.150742</td>\n",
       "      <td>3.924606</td>\n",
       "      <td>3.907276</td>\n",
       "      <td>0.619897</td>\n",
       "      <td>2.658941</td>\n",
       "      <td>0.883580</td>\n",
       "      <td>2.040655</td>\n",
       "      <td>0.007346</td>\n",
       "      <td>32.844803</td>\n",
       "      <td>19.987404</td>\n",
       "      <td>109.174700</td>\n",
       "      <td>301.267437</td>\n",
       "      <td>265.931767</td>\n",
       "      <td>4.437283</td>\n",
       "      <td>718.166862</td>\n",
       "    </tr>\n",
       "    <tr>\n",
       "      <th>min</th>\n",
       "      <td>1.503960e+09</td>\n",
       "      <td>0.000000</td>\n",
       "      <td>0.000000</td>\n",
       "      <td>0.000000</td>\n",
       "      <td>0.000000</td>\n",
       "      <td>0.000000</td>\n",
       "      <td>0.000000</td>\n",
       "      <td>0.000000</td>\n",
       "      <td>0.000000</td>\n",
       "      <td>0.000000</td>\n",
       "      <td>0.000000</td>\n",
       "      <td>0.000000</td>\n",
       "      <td>0.000000</td>\n",
       "      <td>2.000000</td>\n",
       "      <td>0.000000</td>\n",
       "      <td>0.000000</td>\n",
       "    </tr>\n",
       "    <tr>\n",
       "      <th>25%</th>\n",
       "      <td>2.320127e+09</td>\n",
       "      <td>3789.750000</td>\n",
       "      <td>2.620000</td>\n",
       "      <td>2.620000</td>\n",
       "      <td>0.000000</td>\n",
       "      <td>0.000000</td>\n",
       "      <td>0.000000</td>\n",
       "      <td>1.945000</td>\n",
       "      <td>0.000000</td>\n",
       "      <td>0.000000</td>\n",
       "      <td>0.000000</td>\n",
       "      <td>127.000000</td>\n",
       "      <td>729.750000</td>\n",
       "      <td>989.750000</td>\n",
       "      <td>16.000000</td>\n",
       "      <td>1828.500000</td>\n",
       "    </tr>\n",
       "    <tr>\n",
       "      <th>50%</th>\n",
       "      <td>4.445115e+09</td>\n",
       "      <td>7405.500000</td>\n",
       "      <td>5.245000</td>\n",
       "      <td>5.245000</td>\n",
       "      <td>0.000000</td>\n",
       "      <td>0.210000</td>\n",
       "      <td>0.240000</td>\n",
       "      <td>3.365000</td>\n",
       "      <td>0.000000</td>\n",
       "      <td>4.000000</td>\n",
       "      <td>6.000000</td>\n",
       "      <td>199.000000</td>\n",
       "      <td>1057.500000</td>\n",
       "      <td>1440.000000</td>\n",
       "      <td>24.000000</td>\n",
       "      <td>2134.000000</td>\n",
       "    </tr>\n",
       "    <tr>\n",
       "      <th>75%</th>\n",
       "      <td>6.962181e+09</td>\n",
       "      <td>10727.000000</td>\n",
       "      <td>7.712500</td>\n",
       "      <td>7.710000</td>\n",
       "      <td>0.000000</td>\n",
       "      <td>2.052500</td>\n",
       "      <td>0.800000</td>\n",
       "      <td>4.782500</td>\n",
       "      <td>0.000000</td>\n",
       "      <td>32.000000</td>\n",
       "      <td>19.000000</td>\n",
       "      <td>264.000000</td>\n",
       "      <td>1229.500000</td>\n",
       "      <td>1440.000000</td>\n",
       "      <td>24.000000</td>\n",
       "      <td>2793.250000</td>\n",
       "    </tr>\n",
       "    <tr>\n",
       "      <th>max</th>\n",
       "      <td>8.877689e+09</td>\n",
       "      <td>36019.000000</td>\n",
       "      <td>28.030001</td>\n",
       "      <td>28.030001</td>\n",
       "      <td>4.942142</td>\n",
       "      <td>21.920000</td>\n",
       "      <td>6.480000</td>\n",
       "      <td>10.710000</td>\n",
       "      <td>0.110000</td>\n",
       "      <td>210.000000</td>\n",
       "      <td>143.000000</td>\n",
       "      <td>518.000000</td>\n",
       "      <td>1440.000000</td>\n",
       "      <td>1440.000000</td>\n",
       "      <td>24.000000</td>\n",
       "      <td>4900.000000</td>\n",
       "    </tr>\n",
       "  </tbody>\n",
       "</table>\n",
       "</div>"
      ],
      "text/plain": [
       "                 id   total_steps  total_dist  track_dist  logged_dist  \\\n",
       "count  9.400000e+02    940.000000  940.000000  940.000000   940.000000   \n",
       "mean   4.855407e+09   7637.910638    5.489702    5.475351     0.108171   \n",
       "std    2.424805e+09   5087.150742    3.924606    3.907276     0.619897   \n",
       "min    1.503960e+09      0.000000    0.000000    0.000000     0.000000   \n",
       "25%    2.320127e+09   3789.750000    2.620000    2.620000     0.000000   \n",
       "50%    4.445115e+09   7405.500000    5.245000    5.245000     0.000000   \n",
       "75%    6.962181e+09  10727.000000    7.712500    7.710000     0.000000   \n",
       "max    8.877689e+09  36019.000000   28.030001   28.030001     4.942142   \n",
       "\n",
       "       very_active_dist  moderate_active_dist  light_active_dist  \\\n",
       "count        940.000000            940.000000         940.000000   \n",
       "mean           1.502681              0.567543           3.340819   \n",
       "std            2.658941              0.883580           2.040655   \n",
       "min            0.000000              0.000000           0.000000   \n",
       "25%            0.000000              0.000000           1.945000   \n",
       "50%            0.210000              0.240000           3.365000   \n",
       "75%            2.052500              0.800000           4.782500   \n",
       "max           21.920000              6.480000          10.710000   \n",
       "\n",
       "       sedentary_active_dist  very_active_mins  fairly_active_mins  \\\n",
       "count             940.000000        940.000000          940.000000   \n",
       "mean                0.001606         21.164894           13.564894   \n",
       "std                 0.007346         32.844803           19.987404   \n",
       "min                 0.000000          0.000000            0.000000   \n",
       "25%                 0.000000          0.000000            0.000000   \n",
       "50%                 0.000000          4.000000            6.000000   \n",
       "75%                 0.000000         32.000000           19.000000   \n",
       "max                 0.110000        210.000000          143.000000   \n",
       "\n",
       "       lightly_active_mins  sedentary_mins   total_mins  total_hours  \\\n",
       "count           940.000000      940.000000   940.000000   940.000000   \n",
       "mean            192.812766      991.210638  1218.753191    20.313830   \n",
       "std             109.174700      301.267437   265.931767     4.437283   \n",
       "min               0.000000        0.000000     2.000000     0.000000   \n",
       "25%             127.000000      729.750000   989.750000    16.000000   \n",
       "50%             199.000000     1057.500000  1440.000000    24.000000   \n",
       "75%             264.000000     1229.500000  1440.000000    24.000000   \n",
       "max             518.000000     1440.000000  1440.000000    24.000000   \n",
       "\n",
       "          calories  \n",
       "count   940.000000  \n",
       "mean   2303.609574  \n",
       "std     718.166862  \n",
       "min       0.000000  \n",
       "25%    1828.500000  \n",
       "50%    2134.000000  \n",
       "75%    2793.250000  \n",
       "max    4900.000000  "
      ]
     },
     "execution_count": 20,
     "metadata": {},
     "output_type": "execute_result"
    }
   ],
   "source": [
    "# pull general statistics\n",
    "\n",
    "df_activity.describe()"
   ]
  },
  {
   "cell_type": "markdown",
   "id": "bb4cdb17",
   "metadata": {
    "papermill": {
     "duration": 0.038888,
     "end_time": "2021-11-25T11:30:59.936793",
     "exception": false,
     "start_time": "2021-11-25T11:30:59.897905",
     "status": "completed"
    },
    "tags": []
   },
   "source": [
    "### Interpreting statistical findings:\n",
    "\n",
    "1. On average, users logged 7,637 steps or 5.4km which is not adequate. As recommended by Centre for Disease Control (CDC), an adult female has to aim at least 10,000 steps or 8km per day to benefit from general health, weight loss and fitness improvement. *Source: Medical News Today article*\n",
    "\n",
    "2. Sedentary users are the majority logging on average 991 minutes or 20 hours making up 81% of total average minutes.\n",
    "\n",
    "3. Note that average calories burned is 2,303 calories which is equal to 0.6 pound. This could not interpret into detail as calories burned depend on several factors such as the age, weight, daily tasks, exercise, hormones and daily calorie intake. *Source: Health Line article*"
   ]
  },
  {
   "cell_type": "markdown",
   "id": "cb11956e",
   "metadata": {
    "papermill": {
     "duration": 0.038914,
     "end_time": "2021-11-25T11:31:00.014798",
     "exception": false,
     "start_time": "2021-11-25T11:30:59.975884",
     "status": "completed"
    },
    "tags": []
   },
   "source": [
    "## STEP 5: SHARE\n",
    "\n",
    "In the Share Step, we are creating visualizations and communicating our findings based on our analysis.\n",
    "\n",
    "### Data Visualizations and Findings"
   ]
  },
  {
   "cell_type": "code",
   "execution_count": 21,
   "id": "9e21042c",
   "metadata": {
    "execution": {
     "iopub.execute_input": "2021-11-25T11:31:00.098016Z",
     "iopub.status.busy": "2021-11-25T11:31:00.096829Z",
     "iopub.status.idle": "2021-11-25T11:31:00.482727Z",
     "shell.execute_reply": "2021-11-25T11:31:00.483230Z",
     "shell.execute_reply.started": "2021-11-25T11:16:02.061109Z"
    },
    "papermill": {
     "duration": 0.429367,
     "end_time": "2021-11-25T11:31:00.483442",
     "exception": false,
     "start_time": "2021-11-25T11:31:00.054075",
     "status": "completed"
    },
    "tags": []
   },
   "outputs": [
    {
     "data": {
      "image/png": "[encoded data removed]",
      "text/plain": [
       "<Figure size 800x600 with 1 Axes>"
      ]
     },
     "metadata": {},
     "output_type": "display_data"
    }
   ],
   "source": [
    "# import matplotlib package\n",
    "\n",
    "import matplotlib.pyplot as plt\n",
    "\n",
    "# plot histogram\n",
    "\n",
    "plt.style.use(\"default\")\n",
    "plt.figure(figsize=(8, 6)) # sepcify size of the chart\n",
    "plt.hist(df_activity.day_of_the_week, bins = 7, width = 0.6, color = \"lightgrey\", edgecolor = \"black\")\n",
    "\n",
    "# adding annotations and visuals\n",
    "\n",
    "plt.xlabel(\"Day of the week\")\n",
    "plt.ylabel(\"Frequency\")\n",
    "plt.title(\"No. of times users logged in app across the week\")\n",
    "plt.grid(True)\n",
    "plt.show()"
   ]
  },
  {
   "cell_type": "markdown",
   "id": "04ba98b0",
   "metadata": {
    "papermill": {
     "duration": 0.04039,
     "end_time": "2021-11-25T11:31:00.564955",
     "exception": false,
     "start_time": "2021-11-25T11:31:00.524565",
     "status": "completed"
    },
    "tags": []
   },
   "source": [
    "### Frequency of usage across the week\n",
    "\n",
    "In this histogram, we are looking at the frequency of FitBit app usage in terms of days of the week.\n",
    "We discovered that users prefer or remember (giving them the benefit of doubt that they had forgotten) to track their activity on the app during midweek from Tuesday to Friday.\n",
    "\n",
    "Note that the frequency dropped on Friday and continue on weekends and Monday."
   ]
  },
  {
   "cell_type": "code",
   "execution_count": 22,
   "id": "82a5152c",
   "metadata": {
    "execution": {
     "iopub.execute_input": "2021-11-25T11:31:00.657314Z",
     "iopub.status.busy": "2021-11-25T11:31:00.655982Z",
     "iopub.status.idle": "2021-11-25T11:31:01.084802Z",
     "shell.execute_reply": "2021-11-25T11:31:01.085610Z",
     "shell.execute_reply.started": "2021-11-25T11:16:02.360933Z"
    },
    "papermill": {
     "duration": 0.479569,
     "end_time": "2021-11-25T11:31:01.085807",
     "exception": false,
     "start_time": "2021-11-25T11:31:00.606238",
     "status": "completed"
    },
    "tags": []
   },
   "outputs": [
    {
     "data": {
      "image/png": "[encoded data removed]",
      "text/plain": [
       "<Figure size 1000x800 with 2 Axes>"
      ]
     },
     "metadata": {},
     "output_type": "display_data"
    }
   ],
   "source": [
    "# import matplotlib package\n",
    "\n",
    "import matplotlib.pyplot as plt\n",
    "\n",
    "# plotting scatter plot\n",
    "\n",
    "plt.style.use(\"default\")\n",
    "plt.figure(figsize=(10, 8)) # specify size of the chart\n",
    "plt.scatter(df_activity.total_steps, df_activity.calories, alpha = 0.8, c = df_activity.calories, cmap = \"Accent\")\n",
    "\n",
    "# add annotations and visuals\n",
    "\n",
    "median_calories = 2303\n",
    "median_steps = 7637\n",
    "plt.colorbar(orientation = \"vertical\")\n",
    "plt.axvline(median_steps, color = \"Green\", label = \"Median steps\")\n",
    "plt.axhline(median_calories, color = \"Purple\", label = \"Median calories burned\")\n",
    "plt.xlabel(\"Steps taken\")\n",
    "plt.ylabel(\"Calories burned\")\n",
    "plt.title(\"Calories Burned for every step taken\")\n",
    "plt.grid(True)\n",
    "plt.legend()\n",
    "plt.show()"
   ]
  },
  {
   "cell_type": "markdown",
   "id": "a2c6150e",
   "metadata": {
    "papermill": {
     "duration": 0.045776,
     "end_time": "2021-11-25T11:31:01.177955",
     "exception": false,
     "start_time": "2021-11-25T11:31:01.132179",
     "status": "completed"
    },
    "tags": []
   },
   "source": [
    "### Calories burned for every step taken\n",
    "\n",
    "The following discoveries were made from the scatter plot:\n",
    "\n",
    "1. It is a positive correlation.\n",
    "\n",
    "2. We observed that intensity of calories burned increase when users are at the range of > 0 to 15,000 steps with calories burn rate cooling down from 15,000 steps onwards.\n",
    "\n",
    "3. Noted a few outliers:\n",
    "\n",
    "* Zero steps with zero to minimal calories burned.\n",
    "\n",
    "* 1 observation of > 35,000 steps with < 3,000 calories burned.\n",
    "\n",
    "* Deduced that outliers could be due to natural variation of data, change in user’s usage or errors in data collection (ie. miscalculations, data contamination or human error)."
   ]
  },
  {
   "cell_type": "code",
   "execution_count": 23,
   "id": "81d29950",
   "metadata": {
    "execution": {
     "iopub.execute_input": "2021-11-25T11:31:01.280441Z",
     "iopub.status.busy": "2021-11-25T11:31:01.272189Z",
     "iopub.status.idle": "2021-11-25T11:31:01.683472Z",
     "shell.execute_reply": "2021-11-25T11:31:01.682770Z",
     "shell.execute_reply.started": "2021-11-25T11:16:02.918311Z"
    },
    "papermill": {
     "duration": 0.46041,
     "end_time": "2021-11-25T11:31:01.683618",
     "exception": false,
     "start_time": "2021-11-25T11:31:01.223208",
     "status": "completed"
    },
    "tags": []
   },
   "outputs": [
    {
     "data": {
      "image/png": "[encoded data removed]",
      "text/plain": [
       "<Figure size 1000x800 with 2 Axes>"
      ]
     },
     "metadata": {},
     "output_type": "display_data"
    }
   ],
   "source": [
    "# import matplotlib package\n",
    "\n",
    "import matplotlib.pyplot as plt\n",
    "\n",
    "# plotting scatter plot\n",
    "\n",
    "plt.style.use(\"default\")\n",
    "plt.figure(figsize=(10, 8)) # Specify size of the chart\n",
    "plt.scatter(df_activity.total_hours, df_activity.calories, \n",
    "            alpha = 0.8, c = df_activity.calories, \n",
    "            cmap = \"Accent_r\")\n",
    "\n",
    "# adding annotations and visuals\n",
    "median_calories = 2303\n",
    "median_hours = 20\n",
    "median_sedentary = 991 / 60\n",
    "\n",
    "plt.colorbar(orientation = \"vertical\")\n",
    "plt.axvline(median_hours, color = \"Blue\", label = \"Median steps\")\n",
    "plt.axvline(median_sedentary, color = \"Purple\", label = \"Median sedentary\")\n",
    "plt.axhline(median_calories, color = \"Blue\", label = \"Median hours\")\n",
    "plt.xlabel(\"Hours logged\")\n",
    "plt.ylabel(\"Calories burned\")\n",
    "plt.title(\"Calories burned for every hour logged\")\n",
    "plt.legend()\n",
    "plt.grid(True)\n",
    "plt.show()\n"
   ]
  },
  {
   "cell_type": "markdown",
   "id": "d68aa963",
   "metadata": {
    "papermill": {
     "duration": 0.047517,
     "end_time": "2021-11-25T11:31:01.779589",
     "exception": false,
     "start_time": "2021-11-25T11:31:01.732072",
     "status": "completed"
    },
    "tags": []
   },
   "source": [
    "### Calories burned for every hour logged\n",
    "\n",
    "The scatter plot is displaying:\n",
    "\n",
    "1. A weak positive correlation whereby the increase of hours logged does not translate to more calories being burned. That is largely due to the average sedentary hours (purple line) plotted at the 16 to 17 hours range.\n",
    "\n",
    "2. Again, we can see a few outliers:\n",
    "\n",
    "* The same zero value outliers\n",
    "\n",
    "* An unusual red dot at the 24 hours with zero calorie burned which may be due to the same reasons as above."
   ]
  },
  {
   "cell_type": "code",
   "execution_count": 24,
   "id": "e26936cb",
   "metadata": {
    "execution": {
     "iopub.execute_input": "2021-11-25T11:31:01.886490Z",
     "iopub.status.busy": "2021-11-25T11:31:01.885748Z",
     "iopub.status.idle": "2021-11-25T11:31:02.103107Z",
     "shell.execute_reply": "2021-11-25T11:31:02.102398Z",
     "shell.execute_reply.started": "2021-11-25T11:16:03.349549Z"
    },
    "papermill": {
     "duration": 0.274467,
     "end_time": "2021-11-25T11:31:02.103289",
     "exception": false,
     "start_time": "2021-11-25T11:31:01.828822",
     "status": "completed"
    },
    "tags": []
   },
   "outputs": [
    {
     "data": {
      "image/png": "[encoded data removed]",
      "text/plain": [
       "<Figure size 640x480 with 1 Axes>"
      ]
     },
     "metadata": {},
     "output_type": "display_data"
    }
   ],
   "source": [
    "# import packages\n",
    "\n",
    "import matplotlib.pyplot as plt\n",
    "import numpy as np\n",
    "\n",
    "# calculating total of individual minutes column\n",
    "\n",
    "very_active_mins = df_activity[\"very_active_mins\"].sum()\n",
    "fairly_active_mins = df_activity[\"fairly_active_mins\"].sum()\n",
    "lightly_active_mins = df_activity[\"lightly_active_mins\"].sum()\n",
    "sedentary_mins = df_activity[\"sedentary_mins\"].sum()\n",
    "\n",
    "# plotting pie chart\n",
    "\n",
    "slices = [very_active_mins, fairly_active_mins, lightly_active_mins, sedentary_mins]\n",
    "labels = [\"Very active minutes\", \"Fairly active minutes\", \"Lightly active minutes\", \"Sedentary minutes\"]\n",
    "colours = [\"lightcoral\", \"yellowgreen\", \"lightskyblue\", \"darkorange\"]\n",
    "explode = [0, 0, 0, 0.1]\n",
    "plt.style.use(\"default\")\n",
    "plt.pie(slices, labels = labels, \n",
    "        colors = colours, wedgeprops = {\"edgecolor\": \"black\"}, \n",
    "        explode = explode, autopct = \"%1.1f%%\")\n",
    "plt.title(\"Percentage of Activity in Minutes\")\n",
    "plt.tight_layout()\n",
    "plt.show()"
   ]
  },
  {
   "cell_type": "markdown",
   "id": "3bcadde9",
   "metadata": {
    "papermill": {
     "duration": 0.052329,
     "end_time": "2021-11-25T11:31:02.206358",
     "exception": false,
     "start_time": "2021-11-25T11:31:02.154029",
     "status": "completed"
    },
    "tags": []
   },
   "source": [
    "### Percentage of Activity in Minutes\n",
    "\n",
    "As seen from the pie chart,\n",
    "\n",
    "1. Sedentary minutes takes the largest slice at 81.3%.\n",
    "\n",
    "2. This indicates that users are using the FitBit app to log daily activities such as daily commute, inactive movements (moving from one spot to another) or running errands.\n",
    "\n",
    "3. App is rarely being used to track fitness (ie. running) as per the minor percentage of fairly active activity (1.1%) and very active activity (1.7%). This is highly discouraging as FitBit app was developed to encourage fitness."
   ]
  },
  {
   "cell_type": "markdown",
   "id": "a5715acc",
   "metadata": {
    "papermill": {
     "duration": 0.05153,
     "end_time": "2021-11-25T11:31:02.312497",
     "exception": false,
     "start_time": "2021-11-25T11:31:02.260967",
     "status": "completed"
    },
    "tags": []
   },
   "source": [
    "## STEP 6: ACT\n",
    "\n",
    "In the final step, we will be delivering our insights and providing recommendations based on our analysis.\n",
    "\n",
    "Here, we revisit our business questions and share with the stakeholders our high-level business recommendations.\n",
    "\n",
    "### 1. What are the trends identified? \n",
    "\n",
    "* Majority of users (81.3%) are using the FitBit app to track sedentary activities and not using it for tracking their health habits. \n",
    "\n",
    "* Users prefer to track their activities during weekdays as compared to weekends - perhaps because they spend more time outside on weekdays and stay in on weekends.\n",
    "\n",
    "### 2. How could these trends apply to Bellabeat customers? \n",
    "\n",
    "* Both companies develop products focused on providing women with their health, habit and fitness data and encouraging them to understand their current habits and make healthy decisions. These common trends surrounding health and fitness can very well be applied to Bellabeat customers.\n",
    "\n",
    "### 3. How could these trends help influence Bellabeat marketing strategy? \n",
    "\n",
    "* Bellabeat marketing team can encourage users by educating and equipping them with knowledge about fitness benefits, suggest different types of exercise (ie. simple 10 minutes exercise on weekday and a more intense exercise on weekends) and calories intake and burnt rate information on the Bellabeat app. \n",
    "\n",
    "* On weekends, Bellabeat app can also prompt notification to encourage users to exercise."
   ]
  }
 ],
 "metadata": {
  "kernelspec": {
   "display_name": "Python 3",
   "language": "python",
   "name": "python3"
  },
  "language_info": {
   "codemirror_mode": {
    "name": "ipython",
    "version": 3
   },
   "file_extension": ".py",
   "mimetype": "text/x-python",
   "name": "python",
   "nbconvert_exporter": "python",
   "pygments_lexer": "ipython3",
   "version": "3.7.10"
  },
  "papermill": {
   "default_parameters": {},
   "duration": 16.5095,
   "end_time": "2021-11-25T11:31:03.073971",
   "environment_variables": {},
   "exception": null,
   "input_path": "__notebook__.ipynb",
   "output_path": "__notebook__.ipynb",
   "parameters": {},
   "start_time": "2021-11-25T11:30:46.564471",
   "version": "2.3.3"
  }
 },
 "nbformat": 4,
 "nbformat_minor": 5
}
